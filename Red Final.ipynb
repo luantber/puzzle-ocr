{
 "cells": [
  {
   "cell_type": "code",
   "execution_count": 29,
   "metadata": {},
   "outputs": [
    {
     "name": "stdout",
     "output_type": "stream",
     "text": [
      "x_train shape: (60000, 28, 28, 1)\n",
      "60000 train samples\n",
      "10000 test samples\n",
      "Epoch 1/10\n",
      "469/468 [==============================] - 128s 274ms/step - loss: 1.1740 - accuracy: 0.6116 - val_loss: 0.1157 - val_accuracy: 0.9646\n",
      "Epoch 2/10\n",
      "469/468 [==============================] - 131s 280ms/step - loss: 0.4096 - accuracy: 0.8820 - val_loss: 0.0545 - val_accuracy: 0.9819\n",
      "Epoch 3/10\n",
      "469/468 [==============================] - 131s 279ms/step - loss: 0.2892 - accuracy: 0.9186 - val_loss: 0.0505 - val_accuracy: 0.9841\n",
      "Epoch 4/10\n",
      "469/468 [==============================] - 131s 280ms/step - loss: 0.2298 - accuracy: 0.9352 - val_loss: 0.0300 - val_accuracy: 0.9907\n",
      "Epoch 5/10\n",
      "469/468 [==============================] - 131s 280ms/step - loss: 0.2064 - accuracy: 0.9415 - val_loss: 0.0340 - val_accuracy: 0.9883\n",
      "Epoch 6/10\n",
      "469/468 [==============================] - 131s 280ms/step - loss: 0.1835 - accuracy: 0.9495 - val_loss: 0.0351 - val_accuracy: 0.9888\n",
      "Epoch 7/10\n",
      "469/468 [==============================] - 132s 281ms/step - loss: 0.1664 - accuracy: 0.9540 - val_loss: 0.0297 - val_accuracy: 0.9906\n",
      "Epoch 8/10\n",
      "469/468 [==============================] - 131s 280ms/step - loss: 0.1571 - accuracy: 0.9578 - val_loss: 0.0273 - val_accuracy: 0.9917\n",
      "Epoch 9/10\n",
      "469/468 [==============================] - 132s 282ms/step - loss: 0.1500 - accuracy: 0.9590 - val_loss: 0.0260 - val_accuracy: 0.9925\n",
      "Epoch 10/10\n",
      "469/468 [==============================] - 142s 302ms/step - loss: 0.1406 - accuracy: 0.9624 - val_loss: 0.0247 - val_accuracy: 0.9917\n",
      "Test loss: 0.024685829534890583\n",
      "Test accuracy: 0.9916999936103821\n"
     ]
    }
   ],
   "source": [
    "from __future__ import print_function\n",
    "import keras\n",
    "from keras.datasets import mnist\n",
    "from keras.models import Sequential,load_model\n",
    "from keras.layers import Dense, Dropout, Flatten\n",
    "from keras.layers import Conv2D, MaxPooling2D\n",
    "from keras import backend as K\n",
    "from keras.preprocessing.image import ImageDataGenerator\n",
    "\n",
    "\n",
    "batch_size = 128\n",
    "num_classes = 10\n",
    "epochs = 12\n",
    "\n",
    "# input image dimensions\n",
    "img_rows, img_cols = 28, 28\n",
    "\n",
    "# the data, split between train and test sets\n",
    "(x_train, y_train), (x_test, y_test) = mnist.load_data()\n",
    "\n",
    "if K.image_data_format() == 'channels_first':\n",
    "    x_train = x_train.reshape(x_train.shape[0], 1, img_rows, img_cols)\n",
    "    x_test = x_test.reshape(x_test.shape[0], 1, img_rows, img_cols)\n",
    "    input_shape = (1, img_rows, img_cols)\n",
    "else:\n",
    "    x_train = x_train.reshape(x_train.shape[0], img_rows, img_cols, 1)\n",
    "    x_test = x_test.reshape(x_test.shape[0], img_rows, img_cols, 1)\n",
    "    input_shape = (img_rows, img_cols, 1)\n",
    "\n",
    "x_train = x_train.astype('float32')\n",
    "x_test = x_test.astype('float32')\n",
    "x_train /= 255\n",
    "x_test /= 255\n",
    "print('x_train shape:', x_train.shape)\n",
    "print(x_train.shape[0], 'train samples')\n",
    "print(x_test.shape[0], 'test samples')\n",
    "\n",
    "# convert class vectors to binary class matrices\n",
    "y_train = keras.utils.to_categorical(y_train, num_classes)\n",
    "y_test = keras.utils.to_categorical(y_test, num_classes)\n",
    "\n",
    "datagen = ImageDataGenerator(\n",
    "#     featurewise_center=True,\n",
    "#     featurewise_std_normalization=True,\n",
    "    rescale=1./255,\n",
    "    rotation_range=20,\n",
    "    width_shift_range=0.2,\n",
    "    height_shift_range=0.2,\n",
    "    brightness_range=[0.7,1],\n",
    "    zoom_range=[0.7,1.3]\n",
    "    )\n",
    "\n",
    "\n",
    "\n",
    "\n",
    "\n",
    "\n",
    "\n",
    "model = Sequential()\n",
    "model.add(Conv2D(32, kernel_size=(3, 3),\n",
    "                 activation='relu',\n",
    "                 input_shape=input_shape))\n",
    "model.add(Conv2D(64, (3, 3), activation='relu'))\n",
    "model.add(MaxPooling2D(pool_size=(2, 2)))\n",
    "model.add(Conv2D(80, (3, 3), activation='relu'))\n",
    "model.add(MaxPooling2D(pool_size=(2, 2)))\n",
    "model.add(Dropout(0.25))\n",
    "model.add(Flatten())\n",
    "model.add(Dense(128, activation='relu'))\n",
    "model.add(Dense(60, activation='relu'))\n",
    "model.add(Dropout(0.5))\n",
    "model.add(Dense(num_classes, activation='softmax'))\n",
    "\n",
    "model.compile(loss=keras.losses.categorical_crossentropy,\n",
    "              optimizer=keras.optimizers.Adadelta(),\n",
    "              metrics=['accuracy'])\n",
    "\n",
    "# model.fit(x_train, y_train,\n",
    "#           batch_size=batch_size,\n",
    "#           epochs=epochs,\n",
    "#           verbose=1,\n",
    "#           validation_data=(x_test, y_test))\n",
    "\n",
    "# model = load_model(\"pesos_aug1.h5\")\n",
    "\n",
    "model.fit_generator(datagen.flow(x_train, y_train, batch_size=batch_size),\n",
    "                   steps_per_epoch=len(x_train) / batch_size, epochs=10 , validation_data = (x_test,y_test))\n",
    "\n",
    "model.save(\"pesos_aug1.h5\")\n",
    "\n",
    "score = model.evaluate(x_test, y_test, verbose=0)\n",
    "print('Test loss:', score[0])\n",
    "print('Test accuracy:', score[1])"
   ]
  },
  {
   "cell_type": "code",
   "execution_count": 26,
   "metadata": {},
   "outputs": [
    {
     "name": "stdout",
     "output_type": "stream",
     "text": [
      "(128, 28, 28, 1) (128, 10)\n"
     ]
    },
    {
     "data": {
      "image/png": "[encoded data removed]",
      "text/plain": [
       "<Figure size 432x288 with 1 Axes>"
      ]
     },
     "metadata": {
      "needs_background": "light"
     },
     "output_type": "display_data"
    },
    {
     "data": {
      "image/png": "[encoded data removed]",
      "text/plain": [
       "<Figure size 432x288 with 1 Axes>"
      ]
     },
     "metadata": {
      "needs_background": "light"
     },
     "output_type": "display_data"
    },
    {
     "name": "stdout",
     "output_type": "stream",
     "text": [
      "DescribeResult(nobs=784, minmax=(array([0.], dtype=float32), array([0.8745099], dtype=float32)), mean=array([0.06869248], dtype=float32), variance=array([0.03405029], dtype=float32), skewness=array([2.8147035], dtype=float32), kurtosis=array([6.848754], dtype=float32))\n",
      "DescribeResult(nobs=784, minmax=(array([0.], dtype=float32), array([1.], dtype=float32)), mean=array([0.09230693], dtype=float32), variance=array([0.06703529], dtype=float32), skewness=array([2.7588484], dtype=float32), kurtosis=array([6.0809765], dtype=float32))\n",
      "---------\n",
      "[0. 0. 1. 0. 0. 0. 0. 0. 0. 0.]\n"
     ]
    }
   ],
   "source": [
    "import matplotlib.pyplot as plt\n",
    "algo = datagen.flow(x_train, y_train, batch_size=batch_size)\n",
    "x,y = algo[1]\n",
    "print(x.shape,y.shape)\n",
    "# print(x[0])\n",
    "\n",
    "plt.imshow(x[0].reshape((28,28)))\n",
    "plt.show()\n",
    "\n",
    "\n",
    "plt.imshow(x_test[0].reshape((28,28)))\n",
    "plt.show()\n",
    "\n",
    "from scipy import stats\n",
    "print(  stats.describe(x[0].reshape(-1,1)) )\n",
    "\n",
    "print(  stats.describe(x_test[0].reshape(-1,1)) )\n",
    "\n",
    "print(\"---------\")\n",
    "print(y[0])"
   ]
  }
 ],
 "metadata": {
  "kernelspec": {
   "display_name": "Python 3",
   "language": "python",
   "name": "python3"
  }
 },
 "nbformat": 4,
 "nbformat_minor": 2
}
